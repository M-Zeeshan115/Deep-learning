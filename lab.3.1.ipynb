{
  "nbformat": 4,
  "nbformat_minor": 0,
  "metadata": {
    "colab": {
      "provenance": []
    },
    "kernelspec": {
      "name": "python3",
      "display_name": "Python 3"
    },
    "language_info": {
      "name": "python"
    }
  },
  "cells": [
    {
      "cell_type": "code",
      "execution_count": 11,
      "metadata": {
        "colab": {
          "base_uri": "https://localhost:8080/"
        },
        "id": "fF59VkwQATlU",
        "outputId": "818b7faf-51d0-44a7-d5d3-f5076f655529"
      },
      "outputs": [
        {
          "output_type": "stream",
          "name": "stdout",
          "text": [
            "Softmax Probabilities:\n",
            " [[0.24002865 0.08830161 0.03590075 0.24002865 0.39574034]\n",
            " [0.05708111 0.42177553 0.04228673 0.42177553 0.05708111]\n",
            " [0.03398492 0.03755915 0.61764691 0.08358942 0.2272196 ]\n",
            " [0.08095254 0.36280409 0.05997111 0.36280409 0.13346817]\n",
            " [0.19042323 0.03147675 0.517624   0.07005279 0.19042323]]\n",
            "\n",
            "Log of Softmax Probabilities:\n",
            " [[-1.42699699 -2.42699699 -3.32699699 -1.42699699 -0.92699699]\n",
            " [-2.86328203 -0.86328203 -3.16328203 -0.86328203 -2.86328203]\n",
            " [-3.38183833 -3.28183833 -0.48183833 -2.48183833 -1.48183833]\n",
            " [-2.51389228 -1.01389228 -2.81389228 -1.01389228 -2.01389228]\n",
            " [-1.65850616 -3.45850616 -0.65850616 -2.65850616 -1.65850616]]\n",
            "\n",
            "y_true * log(probs):\n",
            " [[-1.42699699 -0.         -0.         -0.         -0.        ]\n",
            " [-0.         -0.86328203 -0.         -0.         -0.        ]\n",
            " [-0.         -0.         -0.48183833 -0.         -0.        ]\n",
            " [-0.         -0.         -0.         -1.01389228 -0.        ]\n",
            " [-0.         -0.         -0.         -0.         -1.65850616]]\n",
            "\n",
            "CE Loss per Sample: [1.42699699 0.86328203 0.48183833 1.01389228 1.65850616]\n",
            "\n",
            "Average CE Loss for the Dataset: 1.0889031585882822\n"
          ]
        }
      ],
      "source": [
        "import numpy as np\n",
        "\n",
        "# Ground truth labels (one-hot encoded)\n",
        "y_true = np.array([\n",
        "    [1, 0, 0, 0, 0],  # Sample 1: Class 1\n",
        "    [0, 1, 0, 0, 0],  # Sample 2: Class 2\n",
        "    [0, 0, 1, 0, 0],# Sample 3: Class 3\n",
        "    [0, 0, 0, 1, 0],\n",
        "    [0, 0, 0, 0, 1]\n",
        "])\n",
        "\n",
        "# Model predictions (logits)\n",
        "logits = np.array([\n",
        "    [2.0, 1.0, 0.1, 2.0, 2.5],  # Sample 1\n",
        "    [0.5, 2.5, 0.2, 2.5, 0.5],  # Sample 2\n",
        "    [0.1, 0.2, 3.0, 1.0, 2.0],# Sample 3\n",
        "    [0.5, 2.0, 0.2, 2.0, 1.0],  # Sample 2\n",
        "    [2.0, 0.2, 3.0, 1.0, 2.0],\n",
        "\n",
        "])\n",
        "\n",
        "# Softmax function\n",
        "def softmax(x):\n",
        "    exp_x = np.exp(x - np.max(x, axis=-1, keepdims=True))  # Numerical stability\n",
        "    return exp_x / np.sum(exp_x, axis=-1, keepdims=True)\n",
        "\n",
        "# Compute softmax probabilities\n",
        "probs = softmax(logits)\n",
        "print(\"Softmax Probabilities:\\n\", probs)\n",
        "\n",
        "# Compute log(probs)\n",
        "log_probs = np.log(probs)\n",
        "print(\"\\nLog of Softmax Probabilities:\\n\", log_probs)\n",
        "\n",
        "# Compute y_true * log(probs)\n",
        "y_true_log_probs = y_true * log_probs\n",
        "print(\"\\ny_true * log(probs):\\n\", y_true_log_probs)\n",
        "\n",
        "# Compute CE loss for each sample\n",
        "ce_loss = -np.sum(y_true_log_probs, axis=-1)\n",
        "print(\"\\nCE Loss per Sample:\", ce_loss)\n",
        "\n",
        "# Average CE loss for the dataset\n",
        "avg_ce_loss = np.mean(ce_loss)\n",
        "print(\"\\nAverage CE Loss for the Dataset:\", avg_ce_loss)"
      ]
    },
    {
      "cell_type": "code",
      "source": [
        "import numpy as np\n",
        "\n",
        "# Ground truth labels (one-hot encoded)\n",
        "y_true = np.array([\n",
        "    [1, 0, 0],  # Sample 1: Class 1\n",
        "    [0, 1, 0],  # Sample 2: Class 2\n",
        "    [0, 0, 1],# Sample 3: Class 3\n",
        "    [1, 0, 0],\n",
        "    [0, 1, 0]\n",
        "])\n",
        "\n",
        "# Model predictions (logits)\n",
        "logits = np.array([\n",
        "    [2.0, 1.0, 0.1],  # Sample 1\n",
        "    [0.5, 2.5, 0.2],  # Sample 2\n",
        "    [0.1, 0.2, 3.0],# Sample 3\n",
        "    [0.2, 0.1, 2.0],\n",
        "    [2.0, 0.1, 0.2],\n",
        "])\n",
        "\n",
        "# Softmax function\n",
        "def softmax(x):\n",
        "    exp_x = np.exp(x - np.max(x, axis=-1, keepdims=True))  # Numerical stability\n",
        "    return exp_x / np.sum(exp_x, axis=-1, keepdims=True)\n",
        "\n",
        "# Compute softmax probabilities\n",
        "probs = softmax(logits)\n",
        "print(\"Softmax Probabilities:\\n\", probs)\n",
        "\n",
        "# Compute log(probs)\n",
        "log_probs = np.log(probs)\n",
        "print(\"\\nLog of Softmax Probabilities:\\n\", log_probs)\n",
        "\n",
        "# Compute y_true * log(probs)\n",
        "y_true_log_probs = y_true * log_probs\n",
        "print(\"\\ny_true * log(probs):\\n\", y_true_log_probs)\n",
        "\n",
        "# Compute CE loss for each sample\n",
        "ce_loss = -np.sum(y_true_log_probs, axis=-1)\n",
        "print(\"\\nCE Loss per Sample:\", ce_loss)\n",
        "\n",
        "# Average CE loss for the dataset\n",
        "avg_ce_loss = np.mean(ce_loss)\n",
        "print(\"\\nAverage CE Loss for the Dataset:\", avg_ce_loss)"
      ],
      "metadata": {
        "colab": {
          "base_uri": "https://localhost:8080/"
        },
        "id": "kDhTzMaQNmhT",
        "outputId": "dea67971-1528-4ae8-c9fa-2cc3204a7259"
      },
      "execution_count": 10,
      "outputs": [
        {
          "output_type": "stream",
          "name": "stdout",
          "text": [
            "Softmax Probabilities:\n",
            " [[0.65900114 0.24243297 0.09856589]\n",
            " [0.10953053 0.80932725 0.08114221]\n",
            " [0.04931133 0.05449744 0.89619123]\n",
            " [0.12571524 0.11375186 0.7605329 ]\n",
            " [0.7605329  0.11375186 0.12571524]]\n",
            "\n",
            "Log of Softmax Probabilities:\n",
            " [[-0.41703002 -1.41703002 -2.31703002]\n",
            " [-2.21155193 -0.21155193 -2.51155193]\n",
            " [-3.00960146 -2.90960146 -0.10960146]\n",
            " [-2.07373591 -2.17373591 -0.27373591]\n",
            " [-0.27373591 -2.17373591 -2.07373591]]\n",
            "\n",
            "y_true * log(probs):\n",
            " [[-0.41703002 -0.         -0.        ]\n",
            " [-0.         -0.21155193 -0.        ]\n",
            " [-0.         -0.         -0.10960146]\n",
            " [-2.07373591 -0.         -0.        ]\n",
            " [-0.         -2.17373591 -0.        ]]\n",
            "\n",
            "CE Loss per Sample: [0.41703002 0.21155193 0.10960146 2.07373591 2.17373591]\n",
            "\n",
            "Average CE Loss for the Dataset: 0.9971310442355588\n"
          ]
        }
      ]
    }
  ]
}