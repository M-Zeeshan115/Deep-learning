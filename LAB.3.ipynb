{
  "nbformat": 4,
  "nbformat_minor": 0,
  "metadata": {
    "colab": {
      "provenance": []
    },
    "kernelspec": {
      "name": "python3",
      "display_name": "Python 3"
    },
    "language_info": {
      "name": "python"
    }
  },
  "cells": [
    {
      "cell_type": "code",
      "source": [
        "import numpy as np\n",
        "\n",
        "# Ground truth labels (one-hot encoded)\n",
        "y_true = np.array([\n",
        "    [1, 0, 0, 0, 0],  # Sample 1: Class 1\n",
        "    [0, 1, 0, 0, 0],  # Sample 2: Class 2\n",
        "    [0, 0, 1, 0, 0],  # Sample 3: Class 3\n",
        "    [0, 0, 0, 1, 0],  # Sample 4: Class 4\n",
        "    [0, 0, 0, 0, 1]   # Sample 5: Class 5\n",
        "])\n",
        "\n",
        "# Model output logits\n",
        "logits = np.array([\n",
        "    [2.0, 1.0, 0.1, 2.0, 2.5],  # Sample 1\n",
        "    [0.5, 2.5, 0.2, 2.5, 0.5],  # Sample 2\n",
        "    [0.1, 0.2, 3.0, 1.0, 2.0],  # Sample 3\n",
        "    [0.5, 2.0, 0.2, 2.0, 1.0],  # Sample 4\n",
        "    [2.0, 0.2, 3.0, 1.0, 2.0],  # Sample 5\n",
        "])\n"
      ],
      "metadata": {
        "id": "6h74S0ed-o9f"
      },
      "execution_count": 14,
      "outputs": []
    },
    {
      "cell_type": "code",
      "source": [
        "# Softmax function (stable implementation)\n",
        "def softmax(x):\n",
        "    exp_x = np.exp(x - np.max(x, axis=-1, keepdims=True))  # for numerical stability\n",
        "    return exp_x / np.sum(exp_x, axis=-1, keepdims=True)\n"
      ],
      "metadata": {
        "id": "U7KAhBOE-rM8"
      },
      "execution_count": 15,
      "outputs": []
    },
    {
      "cell_type": "code",
      "source": [
        "# Compute softmax probabilities for each sample\n",
        "probs = softmax(logits)\n",
        "print(\"Softmax Probabilities:\\n\", probs)\n"
      ],
      "metadata": {
        "colab": {
          "base_uri": "https://localhost:8080/"
        },
        "id": "NOjmm-6s-tSX",
        "outputId": "ff378600-d3ae-49f0-b631-569e83efe1ed"
      },
      "execution_count": 16,
      "outputs": [
        {
          "output_type": "stream",
          "name": "stdout",
          "text": [
            "Softmax Probabilities:\n",
            " [[0.24002865 0.08830161 0.03590075 0.24002865 0.39574034]\n",
            " [0.05708111 0.42177553 0.04228673 0.42177553 0.05708111]\n",
            " [0.03398492 0.03755915 0.61764691 0.08358942 0.2272196 ]\n",
            " [0.08095254 0.36280409 0.05997111 0.36280409 0.13346817]\n",
            " [0.19042323 0.03147675 0.517624   0.07005279 0.19042323]]\n"
          ]
        }
      ]
    },
    {
      "cell_type": "code",
      "source": [
        "# Compute log of the softmax probabilities\n",
        "log_probs = np.log(probs)\n",
        "print(\"\\nLog of Softmax Probabilities:\\n\", log_probs)\n"
      ],
      "metadata": {
        "colab": {
          "base_uri": "https://localhost:8080/"
        },
        "id": "S_siz6jc-vwj",
        "outputId": "f06f882d-78cf-41a3-a8c6-0b9471892f3a"
      },
      "execution_count": 17,
      "outputs": [
        {
          "output_type": "stream",
          "name": "stdout",
          "text": [
            "\n",
            "Log of Softmax Probabilities:\n",
            " [[-1.42699699 -2.42699699 -3.32699699 -1.42699699 -0.92699699]\n",
            " [-2.86328203 -0.86328203 -3.16328203 -0.86328203 -2.86328203]\n",
            " [-3.38183833 -3.28183833 -0.48183833 -2.48183833 -1.48183833]\n",
            " [-2.51389228 -1.01389228 -2.81389228 -1.01389228 -2.01389228]\n",
            " [-1.65850616 -3.45850616 -0.65850616 -2.65850616 -1.65850616]]\n"
          ]
        }
      ]
    },
    {
      "cell_type": "code",
      "source": [
        "# Multiply y_true by log_probs (only target class log-prob survives)\n",
        "y_true_log_probs = y_true * log_probs\n",
        "print(\"\\ny_true * log(probs):\\n\", y_true_log_probs)\n"
      ],
      "metadata": {
        "colab": {
          "base_uri": "https://localhost:8080/"
        },
        "id": "vjTGXhn_-x0f",
        "outputId": "3efac16b-0632-4e26-81be-0b892d6e6ab3"
      },
      "execution_count": 18,
      "outputs": [
        {
          "output_type": "stream",
          "name": "stdout",
          "text": [
            "\n",
            "y_true * log(probs):\n",
            " [[-1.42699699 -0.         -0.         -0.         -0.        ]\n",
            " [-0.         -0.86328203 -0.         -0.         -0.        ]\n",
            " [-0.         -0.         -0.48183833 -0.         -0.        ]\n",
            " [-0.         -0.         -0.         -1.01389228 -0.        ]\n",
            " [-0.         -0.         -0.         -0.         -1.65850616]]\n"
          ]
        }
      ]
    },
    {
      "cell_type": "code",
      "source": [
        "# Compute CE loss for each sample\n",
        "ce_loss = -np.sum(y_true_log_probs, axis=-1)\n",
        "print(\"\\nCE Loss per Sample:\", ce_loss)\n"
      ],
      "metadata": {
        "colab": {
          "base_uri": "https://localhost:8080/"
        },
        "id": "R-Ern5q8_k8F",
        "outputId": "51521b53-033f-4b68-8fdb-2190e8cbc91d"
      },
      "execution_count": 22,
      "outputs": [
        {
          "output_type": "stream",
          "name": "stdout",
          "text": [
            "\n",
            "CE Loss per Sample: [1.42699699 0.86328203 0.48183833 1.01389228 1.65850616]\n"
          ]
        }
      ]
    },
    {
      "cell_type": "code",
      "source": [
        "# Average CE loss for the dataset\n",
        "avg_ce_loss = np.mean(ce_loss)\n",
        "print(\"\\nAverage CE Loss for the Dataset:\", avg_ce_loss)\n"
      ],
      "metadata": {
        "colab": {
          "base_uri": "https://localhost:8080/"
        },
        "id": "0r0KSo4D_l1M",
        "outputId": "74caa9a0-3d8e-4f44-a09e-d78d843a37f5"
      },
      "execution_count": 23,
      "outputs": [
        {
          "output_type": "stream",
          "name": "stdout",
          "text": [
            "\n",
            "Average CE Loss for the Dataset: 1.0889031585882822\n"
          ]
        }
      ]
    },
    {
      "cell_type": "code",
      "source": [
        "import numpy as np\n",
        "\n",
        "# Ground truth labels (one-hot encoded)\n",
        "y_true = np.array([\n",
        "    [1, 0, 0],  # Sample 1: Class 1\n",
        "    [0, 1, 0],  # Sample 2: Class 2\n",
        "    [0, 0, 1],  # Sample 3: Class 3\n",
        "    [1, 0, 0],  # Sample 4: Class 1\n",
        "    [0, 1, 0],  # Sample 5: Class 2\n",
        "])\n",
        "\n",
        "# Model predictions (logits)\n",
        "logits = np.array([\n",
        "    [2.0, 1.0, 0.1],  # Sample 1\n",
        "    [0.5, 2.5, 0.2],  # Sample 2\n",
        "    [0.1, 0.2, 3.0],  # Sample 3\n",
        "    [0.2, 0.1, 2.0],  # Sample 4\n",
        "    [2.0, 0.1, 0.2],  # Sample 5\n",
        "])\n"
      ],
      "metadata": {
        "id": "CKFLa6Vr_-vs"
      },
      "execution_count": 29,
      "outputs": []
    },
    {
      "cell_type": "code",
      "source": [
        "# Softmax function\n",
        "def softmax(x):\n",
        "    exp_x = np.exp(x - np.max(x, axis=-1, keepdims=True))  # Numerical stability\n",
        "    return exp_x / np.sum(exp_x, axis=-1, keepdims=True)\n",
        "\n",
        "# Compute softmax probabilities\n",
        "probs = softmax(logits)\n",
        "print(\"Softmax Probabilities:\\n\", probs)\n"
      ],
      "metadata": {
        "colab": {
          "base_uri": "https://localhost:8080/"
        },
        "id": "CkPzJQpl__e6",
        "outputId": "17f2bf7f-a645-40fa-dd66-bbb146d9b7fd"
      },
      "execution_count": 28,
      "outputs": [
        {
          "output_type": "stream",
          "name": "stdout",
          "text": [
            "Softmax Probabilities:\n",
            " [[0.24002865 0.08830161 0.03590075 0.24002865 0.39574034]\n",
            " [0.05708111 0.42177553 0.04228673 0.42177553 0.05708111]\n",
            " [0.03398492 0.03755915 0.61764691 0.08358942 0.2272196 ]\n",
            " [0.08095254 0.36280409 0.05997111 0.36280409 0.13346817]\n",
            " [0.19042323 0.03147675 0.517624   0.07005279 0.19042323]]\n"
          ]
        }
      ]
    },
    {
      "cell_type": "code",
      "source": [
        "# Compute log(probs)\n",
        "log_probs = np.log(probs)\n",
        "print(\"\\nLog of Softmax Probabilities:\\n\", log_probs)\n"
      ],
      "metadata": {
        "colab": {
          "base_uri": "https://localhost:8080/"
        },
        "id": "2tUeHaw3ABib",
        "outputId": "8d2da86a-6fd6-4f1c-b20e-f25e44367e40"
      },
      "execution_count": 27,
      "outputs": [
        {
          "output_type": "stream",
          "name": "stdout",
          "text": [
            "\n",
            "Log of Softmax Probabilities:\n",
            " [[-1.42699699 -2.42699699 -3.32699699 -1.42699699 -0.92699699]\n",
            " [-2.86328203 -0.86328203 -3.16328203 -0.86328203 -2.86328203]\n",
            " [-3.38183833 -3.28183833 -0.48183833 -2.48183833 -1.48183833]\n",
            " [-2.51389228 -1.01389228 -2.81389228 -1.01389228 -2.01389228]\n",
            " [-1.65850616 -3.45850616 -0.65850616 -2.65850616 -1.65850616]]\n"
          ]
        }
      ]
    },
    {
      "cell_type": "code",
      "source": [
        "# Compute y_true * log(probs)\n",
        "y_true_log_probs = y_true * log_probs\n",
        "print(\"\\ny_true * log(probs):\\n\", y_true_log_probs)\n"
      ],
      "metadata": {
        "colab": {
          "base_uri": "https://localhost:8080/"
        },
        "id": "gTzFXZVnAEHD",
        "outputId": "2d907a6a-bea3-476f-8211-7a1e1e4a5b10"
      },
      "execution_count": 26,
      "outputs": [
        {
          "output_type": "stream",
          "name": "stdout",
          "text": [
            "\n",
            "y_true * log(probs):\n",
            " [[-1.42699699 -0.         -0.         -0.         -0.        ]\n",
            " [-0.         -0.86328203 -0.         -0.         -0.        ]\n",
            " [-0.         -0.         -0.48183833 -0.         -0.        ]\n",
            " [-0.         -0.         -0.         -1.01389228 -0.        ]\n",
            " [-0.         -0.         -0.         -0.         -1.65850616]]\n"
          ]
        }
      ]
    },
    {
      "cell_type": "code",
      "source": [
        "# Compute CE loss for each sample\n",
        "ce_loss = -np.sum(y_true_log_probs, axis=-1)\n",
        "print(\"\\nCE Loss per Sample:\", ce_loss)\n"
      ],
      "metadata": {
        "colab": {
          "base_uri": "https://localhost:8080/"
        },
        "id": "OvnJVRZWAG5l",
        "outputId": "dc808bf1-0653-45c2-ad44-eef5091196a5"
      },
      "execution_count": 25,
      "outputs": [
        {
          "output_type": "stream",
          "name": "stdout",
          "text": [
            "\n",
            "CE Loss per Sample: [1.42699699 0.86328203 0.48183833 1.01389228 1.65850616]\n"
          ]
        }
      ]
    },
    {
      "cell_type": "code",
      "source": [
        "# Average CE loss for the dataset\n",
        "avg_ce_loss = np.mean(ce_loss)\n",
        "print(\"\\nAverage CE Loss for the Dataset:\", avg_ce_loss)\n"
      ],
      "metadata": {
        "colab": {
          "base_uri": "https://localhost:8080/"
        },
        "id": "MfzjnufiAJNJ",
        "outputId": "ee606900-f080-41d5-f644-0bf5b5d779de"
      },
      "execution_count": 24,
      "outputs": [
        {
          "output_type": "stream",
          "name": "stdout",
          "text": [
            "\n",
            "Average CE Loss for the Dataset: 1.0889031585882822\n"
          ]
        }
      ]
    }
  ]
}